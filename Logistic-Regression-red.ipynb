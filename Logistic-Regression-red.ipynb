{
 "cells": [
  {
   "cell_type": "markdown",
   "metadata": {},
   "source": [
    "# 3. Logistic Regression\n",
    "Treating the problem as a classification problem, appy logistic regression. "
   ]
  },
  {
   "cell_type": "markdown",
   "metadata": {},
   "source": [
    "# (b) Red Wine"
   ]
  },
  {
   "cell_type": "markdown",
   "metadata": {},
   "source": [
    "Import libraries"
   ]
  },
  {
   "cell_type": "code",
   "execution_count": 1,
   "metadata": {
    "collapsed": true
   },
   "outputs": [],
   "source": [
    "import matplotlib.pyplot as plt\n",
    "import pandas as pd\n",
    "import numpy as np\n",
    "from sklearn import datasets, linear_model\n",
    "from sklearn.metrics import mean_squared_error, r2_score\n",
    "import sys"
   ]
  },
  {
   "cell_type": "markdown",
   "metadata": {},
   "source": [
    "Reading data from csv. "
   ]
  },
  {
   "cell_type": "markdown",
   "metadata": {},
   "source": [
    "The goal is to predict wine's quality based on alcohol and volatile acidity, the most prompinent features.\n",
    "We have two features  and two classes: (1) and (0)."
   ]
  },
  {
   "cell_type": "code",
   "execution_count": 2,
   "metadata": {
    "collapsed": true
   },
   "outputs": [],
   "source": [
    "data = pd.read_csv('/home/mscuser/Desktop/winequality-red.csv', sep=';')\n",
    "X1 = data[['alcohol','volatile acidity']].values\n",
    "y1 = data['quality'].values\n",
    "y=[]\n",
    "for i in y1:\n",
    "    if i>5:\n",
    "        y.append(1)\n",
    "    else:\n",
    "        y.append(0)"
   ]
  },
  {
   "cell_type": "markdown",
   "metadata": {},
   "source": [
    "In order to map predicted values to probabilities, we use the sigmoid function. \n",
    "The function maps any real value into another value between 0 and 1. "
   ]
  },
  {
   "cell_type": "code",
   "execution_count": 3,
   "metadata": {
    "collapsed": true
   },
   "outputs": [],
   "source": [
    "def sigmoid(z):  \n",
    "    return 1 / (1 + np.exp(-z))"
   ]
  },
  {
   "cell_type": "markdown",
   "metadata": {},
   "source": [
    "Using knowledge of sigmoid functions and decision boundaries, we can now write a prediction function. \n",
    "A prediction function in logistic regression returns the probability of our observation being positive"
   ]
  },
  {
   "cell_type": "code",
   "execution_count": 4,
   "metadata": {
    "collapsed": true
   },
   "outputs": [],
   "source": [
    "def predict(features, weights):\n",
    "    z = np.dot(features, weights)\n",
    "    return sigmoid(z)"
   ]
  },
  {
   "cell_type": "markdown",
   "metadata": {},
   "source": [
    "Calculation of cost function"
   ]
  },
  {
   "cell_type": "code",
   "execution_count": 5,
   "metadata": {
    "collapsed": true
   },
   "outputs": [],
   "source": [
    "def cost_function(features, labels, weights):\n",
    "    #Cost = ( log(predictions) + (1-labels)*log(1-predictions) ) / len(labels)\n",
    "    \n",
    "    observations = len(labels)\n",
    "    predictions = predict(features, weights)\n",
    "\n",
    "    #Take the error when label=1\n",
    "    class1_cost = -labels*np.log(predictions)\n",
    "\n",
    "    #Take the error when label=0\n",
    "    class2_cost = (1-labels)*np.log(1-predictions)\n",
    "\n",
    "    #Take the sum of both costs\n",
    "    cost = class1_cost - class2_cost\n",
    "\n",
    "    #Take the average cost\n",
    "    cost = cost.sum()/observations\n",
    "\n",
    "    return cost"
   ]
  },
  {
   "cell_type": "markdown",
   "metadata": {},
   "source": [
    "To minimize the cost, Gradient Descent is used. "
   ]
  },
  {
   "cell_type": "code",
   "execution_count": 6,
   "metadata": {
    "collapsed": true
   },
   "outputs": [],
   "source": [
    "def update_weights(features, labels, weights, lr):\n",
    "    \n",
    "    N = len(features)\n",
    "    predictions = predict(features, weights)\n",
    "    gradient = np.dot(features.T,  predictions - labels)\n",
    "    #average cost derivative for each feature\n",
    "    gradient /= N\n",
    "    #Multiply the gradient by our learning rate\n",
    "    gradient *= lr\n",
    "    #minimize cost\n",
    "    weights -= gradient\n",
    "    return weights"
   ]
  },
  {
   "cell_type": "markdown",
   "metadata": {},
   "source": [
    "Training a model is the process of iteratively improving your prediction equation by looping through the \n",
    "dataset multiple times, each time updating the weight and bias values in the direction indicated by the slope\n",
    "of the cost function (gradient). \n",
    "Training is complete when we reach an acceptable error threshold, or when subsequent training iterations fail\n",
    "to reduce the cost."
   ]
  },
  {
   "cell_type": "code",
   "execution_count": 7,
   "metadata": {
    "collapsed": true
   },
   "outputs": [],
   "source": [
    "def train(features, labels, weights, lr, iters):\n",
    "    \n",
    "    cost_history = []\n",
    "    w1 = [0] * iters\n",
    "    \n",
    "    for i in range(iters):\n",
    "        weights = update_weights(features, labels, weights, lr)\n",
    "        w1[i] = weights\n",
    "        #Calculate error for auditing purposes\n",
    "        cost = cost_function(features, labels, weights)\n",
    "        cost_history.append(cost)\n",
    "    \n",
    "    return w1, cost_history"
   ]
  },
  {
   "cell_type": "code",
   "execution_count": 8,
   "metadata": {
    "collapsed": true
   },
   "outputs": [],
   "source": [
    "weights = [0, 0]\n",
    "w, cost = train(X1, np.array(y), weights, 0.001, 1000)"
   ]
  },
  {
   "cell_type": "markdown",
   "metadata": {},
   "source": [
    "In the following graph it is clear tha the model is working,\n",
    "as the cost is decreasing after every iteration."
   ]
  },
  {
   "cell_type": "code",
   "execution_count": 9,
   "metadata": {},
   "outputs": [
    {
     "data": {
      "image/png": "[encoded data removed]",
      "text/plain": [
       "<matplotlib.figure.Figure at 0x7f99af614a10>"
      ]
     },
     "metadata": {},
     "output_type": "display_data"
    }
   ],
   "source": [
    "ffig1, ax1 = plt.subplots(figsize=(12,8))\n",
    "ax1.set_xlabel(\"Epoch\")\n",
    "ax1.set_ylabel(r\"Cost $J(\\beta)$\")\n",
    "ax1.plot(cost)\n",
    "ax1.set_title(\"Cost\")\n",
    "plt.show()"
   ]
  },
  {
   "cell_type": "markdown",
   "metadata": {},
   "source": [
    "In order to decide which function is more suitable for logistic regression, we have to look at the graph above\n",
    "and compare it to the equivalant Mean squared error. By observation it is clear which function is the best graph. We \n",
    "choose the one that need less iterations in order to converge. "
   ]
  },
  {
   "cell_type": "markdown",
   "metadata": {},
   "source": [
    "Source: http://ml-cheatsheet.readthedocs.io/en/latest/logistic_regression.html#cost-function"
   ]
  }
 ],
 "metadata": {
  "kernelspec": {
   "display_name": "Python 2",
   "language": "python",
   "name": "python2"
  },
  "language_info": {
   "codemirror_mode": {
    "name": "ipython",
    "version": 2
   },
   "file_extension": ".py",
   "mimetype": "text/x-python",
   "name": "python",
   "nbconvert_exporter": "python",
   "pygments_lexer": "ipython2",
   "version": "2.7.14"
  }
 },
 "nbformat": 4,
 "nbformat_minor": 2
}
